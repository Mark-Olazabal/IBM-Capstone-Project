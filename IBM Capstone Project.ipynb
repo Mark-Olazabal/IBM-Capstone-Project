{
 "cells": [
  {
   "cell_type": "markdown",
   "metadata": {},
   "source": [
    "<h2>Seattle Business Discount Partnerships</h2>"
   ]
  },
  {
   "cell_type": "markdown",
   "metadata": {},
   "source": [
    "<h3 style=\"color:#00a2ed\">Introduction/Business Problem</h3>"
   ]
  },
  {
   "cell_type": "markdown",
   "metadata": {},
   "source": [
    "<p><b>Recommending business partnerships to increase traffic.</b></p>\n",
    "<p>I would like to investigate the proximity of related or behaviorally relevant businesses and public artwork in the Seattle area to look for partnership opportunities. One business could offer a discount with a receipt at the next business.</p>\n",
    "<p>Target audience would be weekend errand-runners, dates, and family outings. This could help businesses eager to open again after shelter-in-place by creating a story of the errand/date/adventure for those looking to get out of the house. This could also appeal to the desire to return to a routine after being in quarantine for so long.</p>\n",
    "<p>Examples could be a Coffee Shop to Pet Grooming to Pet Store or Brunch Cafe to Museum discount.</p>"
   ]
  },
  {
   "cell_type": "markdown",
   "metadata": {},
   "source": [
    "<h3 style=\"color:#00a2ed\">The Data</h3>"
   ]
  },
  {
   "cell_type": "markdown",
   "metadata": {},
   "source": [
    "<p><b>The Primary Data Source:</b></p>\n",
    "<p>Foursquare venue data to see the most common venues in a neighborhood. Based on the top 5 venue types, I can then compare it to the available public artwork to find relationships/themes.</p>\n",
    "<p>One example could be: Coffee Shop, short walk to several art pieces related to animals/companions, to a pet store (discount).</p>\n",
    "<p><b>The Secondary Data Source:</b></p>\n",
    "<p>Seattle Open Data: Public Art Data (location, title of public art)</p>\n",
    "<p>This data will be used to find thematically related pieces near businesses available for discount partnerships.</p>\n",
    "<p>One example could be: Pioneer Square - Caffe Umbria to Seattle Totem Pole, Pergola, Chief Seattle Fountain to In Bloom Salon and Beauty Boutique (Native-owned).</p>"
   ]
  },
  {
   "cell_type": "code",
   "execution_count": null,
   "metadata": {},
   "outputs": [],
   "source": []
  }
 ],
 "metadata": {
  "kernelspec": {
   "display_name": "Python 3",
   "language": "python",
   "name": "python3"
  },
  "language_info": {
   "codemirror_mode": {
    "name": "ipython",
    "version": 3
   },
   "file_extension": ".py",
   "mimetype": "text/x-python",
   "name": "python",
   "nbconvert_exporter": "python",
   "pygments_lexer": "ipython3",
   "version": "3.7.6"
  }
 },
 "nbformat": 4,
 "nbformat_minor": 2
}
