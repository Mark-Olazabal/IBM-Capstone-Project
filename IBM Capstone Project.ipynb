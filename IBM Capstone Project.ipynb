{
 "cells": [
  {
   "cell_type": "markdown",
   "metadata": {},
   "source": [
    "<h2>Seattle Business Discount Partnerships</h2>"
   ]
  },
  {
   "cell_type": "markdown",
   "metadata": {},
   "source": [
    "<h3 style=\"color:#00a2ed\">Introduction/Business Problem</h3>"
   ]
  },
  {
   "cell_type": "markdown",
   "metadata": {},
   "source": [
    "<p><b>Recommending business partnerships to increase traffic.</b></p>\n",
    "<p><b>Problem:</b></p>\n",
    "<p>Many businesses have been closed for multiple months and in dire need of revenue. They would benefit from a new way to draw customers to their business as customers look to return to a sense of normalcy and routine. By leveraging Foursquare venue data and Seattle Public Art data, I would like to investigate the proximity of related or behaviorally relevant businesses and public artwork in the Seattle area to look for partnership opportunities. One business could offer a discount with a receipt at the next business.</p>\n",
    "<p><b>Target Audience:</b></p>\n",
    "<p>Small businesses located near public art installations. This could help businesses eager to re-open after shelter-in-place by creating a story/theme for those customers looking to get out of the house. Small businesses would care about this because it could offer a creative way to market to new/existing customers.</p>\n",
    "<p>Examples could be: a Coffee Shop to Pet Grooming to Pet Store, or Brunch Cafe to Museum to Grocery/Market discount.</p>"
   ]
  },
  {
   "cell_type": "markdown",
   "metadata": {},
   "source": [
    "<h3 style=\"color:#00a2ed\">The Data</h3>"
   ]
  },
  {
   "cell_type": "markdown",
   "metadata": {},
   "source": [
    "<p><b>The Primary Data Source:</b></p>\n",
    "<p><b>Foursquare venue data</b> to see the most common venues in a neighborhood. A call to the Foursquare API produces a list of venues within a specified radius, around a specific latitude/longitude point. I will aggregate the lists and based on the top 5 venue types, compare it to the available public artwork in that neighborhood to find relationships/themes.</p>\n",
    "<p>One example could be: Coffee Shop, short walk to several art pieces related to animals/companions, to a pet store (discount).</p>\n",
    "<p><b>The Secondary Data Source:</b></p>\n",
    "<p><b>Seattle Open Data: Public Art Data</b> will be used to find thematically related pieces near businesses available for discount partnerships.</p>\n",
    "<p>This Excel file from the City of Seattle Open Data Portal contains Artwork by title, location, and artist-generated descriptions. These three features will be used to determine subjective relevance to the dominant businesses in the Foursquare data, by neighborhood.</p>\n",
    "<p>One example could be: Downtown/Pioneer Square - Eighth Generation (Native-owned) to Seattle Totem Pole, Pergola, Chief Seattle Fountain to In Bloom Salon and Beauty Boutique (Native-owned).</p>"
   ]
  },
  {
   "attachments": {},
   "cell_type": "markdown",
   "metadata": {},
   "source": []
  }
 ],
 "metadata": {
  "kernelspec": {
   "display_name": "Python 3",
   "language": "python",
   "name": "python3"
  },
  "language_info": {
   "codemirror_mode": {
    "name": "ipython",
    "version": 3
   },
   "file_extension": ".py",
   "mimetype": "text/x-python",
   "name": "python",
   "nbconvert_exporter": "python",
   "pygments_lexer": "ipython3",
   "version": "3.7.6"
  }
 },
 "nbformat": 4,
 "nbformat_minor": 2
}
